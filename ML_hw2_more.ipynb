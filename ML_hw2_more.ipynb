{
 "cells": [
  {
   "cell_type": "markdown",
   "metadata": {
    "deletable": true,
    "editable": true
   },
   "source": [
    "# Домашнее задание №2"
   ]
  },
  {
   "cell_type": "code",
   "execution_count": 1,
   "metadata": {
    "collapsed": true,
    "deletable": true,
    "editable": true
   },
   "outputs": [],
   "source": [
    "import pandas\n",
    "import numpy as np\n",
    "import matplotlib.pyplot as plt\n",
    "from nltk import word_tokenize\n",
    "import nltk\n",
    "from nltk.corpus import stopwords\n",
    "import re\n",
    "import seaborn as sns\n",
    "import matplotlib.pyplot as plt\n",
    "import pymorphy2\n",
    "\n",
    "from sklearn.feature_extraction.text import CountVectorizer, TfidfVectorizer\n",
    "from sklearn.naive_bayes import MultinomialNB\n",
    "from sklearn.metrics import classification_report, f1_score, accuracy_score, confusion_matrix\n",
    "from sklearn.pipeline import Pipeline\n",
    "from sklearn.model_selection import StratifiedKFold, cross_val_score, train_test_split, cross_val_predict\n",
    "from sklearn.tree import DecisionTreeClassifier\n",
    "from sklearn.ensemble import RandomForestClassifier\n",
    "\n",
    "\n",
    "from nltk.stem.wordnet import WordNetLemmatizer\n",
    "from nltk.stem.lancaster import LancasterStemmer\n",
    "\n",
    "%matplotlib inline"
   ]
  },
  {
   "cell_type": "markdown",
   "metadata": {
    "collapsed": true,
    "deletable": true,
    "editable": true
   },
   "source": [
    "## Task 1"
   ]
  },
  {
   "cell_type": "markdown",
   "metadata": {
    "deletable": true,
    "editable": true
   },
   "source": [
    "### Загрузила данные, посмотрела на классы"
   ]
  },
  {
   "cell_type": "code",
   "execution_count": 2,
   "metadata": {
    "collapsed": false,
    "deletable": true,
    "editable": true
   },
   "outputs": [],
   "source": [
    "path = 'SMSSpamCollection'\n",
    "messages = pandas.read_csv(path, sep='\\t', names=[\"label\", \"message\"])"
   ]
  },
  {
   "cell_type": "code",
   "execution_count": 3,
   "metadata": {
    "collapsed": false,
    "deletable": true,
    "editable": true,
    "scrolled": true
   },
   "outputs": [
    {
     "name": "stdout",
     "output_type": "stream",
     "text": [
      "                                                        message\n",
      "label                                                          \n",
      "ham   count                                                4825\n",
      "      unique                                               4516\n",
      "      top                                Sorry, I'll call later\n",
      "      freq                                                   30\n",
      "spam  count                                                 747\n",
      "      unique                                                653\n",
      "      top     Please call our customer service representativ...\n",
      "      freq                                                    4\n"
     ]
    },
    {
     "data": {
      "text/plain": [
       "<matplotlib.axes._subplots.AxesSubplot at 0x8e9f7f0>"
      ]
     },
     "execution_count": 3,
     "metadata": {},
     "output_type": "execute_result"
    },
    {
     "data": {
      "image/png": "[encoded data removed]",
      "text/plain": [
       "<matplotlib.figure.Figure at 0x8e9fdd0>"
      ]
     },
     "metadata": {},
     "output_type": "display_data"
    }
   ],
   "source": [
    "# print(messages)\n",
    "print(messages.groupby('label').describe())\n",
    "sns.countplot(x=messages['label'], data=messages, palette=\"Set3\")"
   ]
  },
  {
   "cell_type": "markdown",
   "metadata": {
    "deletable": true,
    "editable": true
   },
   "source": [
    "##### Выборка не сбалансирована. ham приблизительно в 6 раз больше, чем spam. Воспользуюсь грубым методом и разделю выборку на сеты одинаковой величины.. "
   ]
  },
  {
   "cell_type": "code",
   "execution_count": 4,
   "metadata": {
    "collapsed": false,
    "deletable": true,
    "editable": true
   },
   "outputs": [],
   "source": [
    "# messages['length'] = messages['message'].map(lambda text: len(text))\n",
    "# print(messages.head())"
   ]
  },
  {
   "cell_type": "markdown",
   "metadata": {
    "deletable": true,
    "editable": true
   },
   "source": [
    "### Сбалансирую данные"
   ]
  },
  {
   "cell_type": "code",
   "execution_count": 5,
   "metadata": {
    "collapsed": false,
    "deletable": true,
    "editable": true
   },
   "outputs": [],
   "source": [
    "spam = messages[messages['label'] == 'spam']\n",
    "ham = messages[messages['label'] == 'ham']"
   ]
  },
  {
   "cell_type": "code",
   "execution_count": 6,
   "metadata": {
    "collapsed": false,
    "deletable": true,
    "editable": true
   },
   "outputs": [],
   "source": [
    "less_ham = ham.sample(n=len(spam))\n",
    "balanced = pandas.concat([less_ham, spam])"
   ]
  },
  {
   "cell_type": "markdown",
   "metadata": {
    "deletable": true,
    "editable": true
   },
   "source": [
    "## Сейчас я построю модели с той или иной нормализацией данных"
   ]
  },
  {
   "cell_type": "code",
   "execution_count": 10,
   "metadata": {
    "collapsed": false,
    "deletable": true,
    "editable": true
   },
   "outputs": [],
   "source": [
    "bow_count = CountVectorizer()\n",
    "bow_tfidf = TfidfVectorizer()"
   ]
  },
  {
   "cell_type": "markdown",
   "metadata": {
    "deletable": true,
    "editable": true
   },
   "source": [
    "### Нормализовала данные: со знаками препинания. но! убрала штуки типа 'слово'+'..'"
   ]
  },
  {
   "cell_type": "code",
   "execution_count": 11,
   "metadata": {
    "collapsed": false,
    "deletable": true,
    "editable": true
   },
   "outputs": [],
   "source": [
    "# 'слово'+'..'  плохо токенизируется функцией word_tokenize, поэтому уберем это\n",
    "def tokenize(text):\n",
    "    arr = [re.sub('(\\w)\\.\\. ', '\\\\1 ', msg) for msg in text]\n",
    "    return arr"
   ]
  },
  {
   "cell_type": "code",
   "execution_count": 13,
   "metadata": {
    "collapsed": false,
    "deletable": true,
    "editable": true
   },
   "outputs": [
    {
     "name": "stdout",
     "output_type": "stream",
     "text": [
      "0.964558558559 0.0122454406079\n"
     ]
    }
   ],
   "source": [
    "bowed_messages = bow_count.fit_transform(tokenize(balanced['message']))\n",
    "naive_model = MultinomialNB()\n",
    "naive_model.fit(bowed_messages, balanced['label'])\n",
    "cv_results = cross_val_score(naive_model, bowed_messages, balanced['label'], cv=10, scoring='accuracy')\n",
    "print(cv_results.mean(), cv_results.std())"
   ]
  },
  {
   "cell_type": "code",
   "execution_count": 14,
   "metadata": {
    "collapsed": false,
    "deletable": true,
    "editable": true
   },
   "outputs": [
    {
     "name": "stdout",
     "output_type": "stream",
     "text": [
      "             precision    recall  f1-score   support\n",
      "\n",
      "        ham       0.95      0.98      0.97       747\n",
      "       spam       0.98      0.95      0.96       747\n",
      "\n",
      "avg / total       0.97      0.96      0.96      1494\n",
      "\n"
     ]
    }
   ],
   "source": [
    "predicted = cross_val_predict(naive_model, bowed_messages, balanced['label'], cv=10)\n",
    "print(classification_report(balanced['label'], predicted))"
   ]
  },
  {
   "cell_type": "markdown",
   "metadata": {
    "deletable": true,
    "editable": true
   },
   "source": [
    "### Нормализовала данные: без знаков препинания"
   ]
  },
  {
   "cell_type": "code",
   "execution_count": 15,
   "metadata": {
    "collapsed": false,
    "deletable": true,
    "editable": true
   },
   "outputs": [],
   "source": [
    "def tokenize_no_punct(text):\n",
    "    arr = [re.sub('[!\"?/\\\\().:;,-]', '', msg) for msg in text]\n",
    "    return arr"
   ]
  },
  {
   "cell_type": "code",
   "execution_count": 16,
   "metadata": {
    "collapsed": false,
    "deletable": true,
    "editable": true
   },
   "outputs": [
    {
     "name": "stdout",
     "output_type": "stream",
     "text": [
      "0.953189189189 0.0141990213325\n"
     ]
    }
   ],
   "source": [
    "bowed_messages = bow_count.fit_transform(tokenize_no_punct(balanced['message']))\n",
    "naive_model = MultinomialNB()\n",
    "naive_model.fit(bowed_messages, balanced['label'])\n",
    "cv_results = cross_val_score(naive_model, bowed_messages, balanced['label'], cv=10, scoring='accuracy')\n",
    "print(cv_results.mean(), cv_results.std())"
   ]
  },
  {
   "cell_type": "code",
   "execution_count": 17,
   "metadata": {
    "collapsed": false,
    "deletable": true,
    "editable": true
   },
   "outputs": [
    {
     "name": "stdout",
     "output_type": "stream",
     "text": [
      "             precision    recall  f1-score   support\n",
      "\n",
      "        ham       0.94      0.97      0.95       747\n",
      "       spam       0.97      0.93      0.95       747\n",
      "\n",
      "avg / total       0.95      0.95      0.95      1494\n",
      "\n"
     ]
    }
   ],
   "source": [
    "predicted = cross_val_predict(naive_model, bowed_messages, balanced['label'], cv=10)\n",
    "print(classification_report(balanced['label'], predicted))"
   ]
  },
  {
   "cell_type": "markdown",
   "metadata": {
    "deletable": true,
    "editable": true
   },
   "source": [
    "### Нормализовала данные:"
   ]
  },
  {
   "cell_type": "code",
   "execution_count": 18,
   "metadata": {
    "collapsed": false,
    "deletable": true,
    "editable": true
   },
   "outputs": [],
   "source": [
    "lancaster_stemmer = LancasterStemmer()\n",
    "wordnet_lemmatizer = WordNetLemmatizer()"
   ]
  },
  {
   "cell_type": "markdown",
   "metadata": {
    "deletable": true,
    "editable": true
   },
   "source": [
    "### стемматизация"
   ]
  },
  {
   "cell_type": "code",
   "execution_count": 19,
   "metadata": {
    "collapsed": false,
    "deletable": true,
    "editable": true
   },
   "outputs": [],
   "source": [
    "def tokenize_stem(text):\n",
    "    text = [re.sub('(\\w)\\.\\. ', '\\\\1 ', msg) for msg in text]\n",
    "    text = [word_tokenize(msg) for msg in text]\n",
    "    arr = []\n",
    "    for msg in text:\n",
    "        msg = [lancaster_stemmer.stem(i.lower()) for i in msg]\n",
    "        arr.append(' '.join(msg))\n",
    "    return arr"
   ]
  },
  {
   "cell_type": "code",
   "execution_count": 20,
   "metadata": {
    "collapsed": false,
    "deletable": true,
    "editable": true
   },
   "outputs": [
    {
     "name": "stdout",
     "output_type": "stream",
     "text": [
      "0.953810810811 0.0153993481585\n"
     ]
    }
   ],
   "source": [
    "bowed_messages = bow_count.fit_transform(tokenize_stem(balanced['message']))\n",
    "naive_model = MultinomialNB()\n",
    "naive_model.fit(bowed_messages, balanced['label'])\n",
    "cv_results = cross_val_score(naive_model, bowed_messages, balanced['label'], cv=10, scoring='accuracy')\n",
    "print(cv_results.mean(), cv_results.std())"
   ]
  },
  {
   "cell_type": "code",
   "execution_count": 21,
   "metadata": {
    "collapsed": false,
    "deletable": true,
    "editable": true
   },
   "outputs": [
    {
     "name": "stdout",
     "output_type": "stream",
     "text": [
      "             precision    recall  f1-score   support\n",
      "\n",
      "        ham       0.94      0.97      0.95       747\n",
      "       spam       0.97      0.93      0.95       747\n",
      "\n",
      "avg / total       0.95      0.95      0.95      1494\n",
      "\n"
     ]
    }
   ],
   "source": [
    "predicted = cross_val_predict(naive_model, bowed_messages, balanced['label'], cv=10)\n",
    "print(classification_report(balanced['label'], predicted))"
   ]
  },
  {
   "cell_type": "markdown",
   "metadata": {
    "deletable": true,
    "editable": true
   },
   "source": [
    "### лемматизация"
   ]
  },
  {
   "cell_type": "markdown",
   "metadata": {
    "deletable": true,
    "editable": true
   },
   "source": [
    "лемматайзер nltk тупо работает. по умолчанию он лемматизирует только существительные((("
   ]
  },
  {
   "cell_type": "code",
   "execution_count": 22,
   "metadata": {
    "collapsed": true,
    "deletable": true,
    "editable": true
   },
   "outputs": [],
   "source": [
    "def tokenize_lemma(text):\n",
    "    text = [re.sub('(\\w)\\.\\. ', '\\\\1 ', msg) for msg in text]\n",
    "    text = [word_tokenize(msg) for msg in text]\n",
    "    arr = []\n",
    "    for msg in text:\n",
    "        msg = [wordnet_lemmatizer.lemmatize(i.lower()) for i in msg]\n",
    "        arr.append(' '.join(msg))\n",
    "    return arr"
   ]
  },
  {
   "cell_type": "code",
   "execution_count": 23,
   "metadata": {
    "collapsed": false,
    "deletable": true,
    "editable": true
   },
   "outputs": [
    {
     "name": "stdout",
     "output_type": "stream",
     "text": [
      "0.96054954955 0.0123603111128\n"
     ]
    }
   ],
   "source": [
    "bowed_messages = bow_count.fit_transform(tokenize_lemma(balanced['message']))\n",
    "naive_model = MultinomialNB()\n",
    "naive_model.fit(bowed_messages, balanced['label'])\n",
    "cv_results = cross_val_score(naive_model, bowed_messages, balanced['label'], cv=10, scoring='accuracy')\n",
    "print(cv_results.mean(), cv_results.std())"
   ]
  },
  {
   "cell_type": "code",
   "execution_count": 24,
   "metadata": {
    "collapsed": false,
    "deletable": true,
    "editable": true
   },
   "outputs": [
    {
     "name": "stdout",
     "output_type": "stream",
     "text": [
      "             precision    recall  f1-score   support\n",
      "\n",
      "        ham       0.95      0.98      0.96       747\n",
      "       spam       0.98      0.95      0.96       747\n",
      "\n",
      "avg / total       0.96      0.96      0.96      1494\n",
      "\n"
     ]
    }
   ],
   "source": [
    "predicted = cross_val_predict(naive_model, bowed_messages, balanced['label'], cv=10)\n",
    "print(classification_report(balanced['label'], predicted))"
   ]
  },
  {
   "cell_type": "markdown",
   "metadata": {
    "deletable": true,
    "editable": true
   },
   "source": [
    "### Нормализовала данные:  удаление стоп-слов"
   ]
  },
  {
   "cell_type": "code",
   "execution_count": 25,
   "metadata": {
    "collapsed": false,
    "deletable": true,
    "editable": true
   },
   "outputs": [],
   "source": [
    "stopset = set(stopwords.words('english'))\n",
    "def tokenize_stop(text):\n",
    "    text = [re.sub('(\\w)\\.\\. ', '\\\\1 ', msg) for msg in text]\n",
    "    text = [[w for w in word_tokenize(msg) if not w in stopset] for msg in text]\n",
    "    arr = []\n",
    "    for msg in text:\n",
    "        msg = [w for w in msg if not w in stopset]\n",
    "        arr.append(' '.join(msg))\n",
    "    return arr"
   ]
  },
  {
   "cell_type": "code",
   "execution_count": 26,
   "metadata": {
    "collapsed": false,
    "deletable": true,
    "editable": true
   },
   "outputs": [
    {
     "name": "stdout",
     "output_type": "stream",
     "text": [
      "0.957153153153 0.0091003656241\n"
     ]
    }
   ],
   "source": [
    "bowed_messages = bow_count.fit_transform(tokenize_stop(balanced['message']))\n",
    "naive_model = MultinomialNB()\n",
    "naive_model.fit(bowed_messages, balanced['label'])\n",
    "cv_results = cross_val_score(naive_model, bowed_messages, balanced['label'], cv=10, scoring='accuracy')\n",
    "print(cv_results.mean(), cv_results.std())"
   ]
  },
  {
   "cell_type": "code",
   "execution_count": 27,
   "metadata": {
    "collapsed": false,
    "deletable": true,
    "editable": true
   },
   "outputs": [
    {
     "name": "stdout",
     "output_type": "stream",
     "text": [
      "             precision    recall  f1-score   support\n",
      "\n",
      "        ham       0.95      0.97      0.96       747\n",
      "       spam       0.97      0.95      0.96       747\n",
      "\n",
      "avg / total       0.96      0.96      0.96      1494\n",
      "\n"
     ]
    }
   ],
   "source": [
    "predicted = cross_val_predict(naive_model, bowed_messages, balanced['label'], cv=10)\n",
    "print(classification_report(balanced['label'], predicted))"
   ]
  },
  {
   "cell_type": "markdown",
   "metadata": {
    "deletable": true,
    "editable": true
   },
   "source": [
    "***модель без всяких улучшений типа лемматизации, удаления стоп-слов и т.п. показывает лучший результат. построим её же, только при помощи TfidfTransformer***"
   ]
  },
  {
   "cell_type": "code",
   "execution_count": 28,
   "metadata": {
    "collapsed": false,
    "deletable": true,
    "editable": true
   },
   "outputs": [
    {
     "name": "stdout",
     "output_type": "stream",
     "text": [
      "0.961891891892 0.0135899937886\n"
     ]
    }
   ],
   "source": [
    "bowed_messages = bow_tfidf.fit_transform(tokenize(balanced['message']))\n",
    "naive_model = MultinomialNB()\n",
    "naive_model.fit(bowed_messages, balanced['label'])\n",
    "cv_results = cross_val_score(naive_model, bowed_messages, balanced['label'], cv=10, scoring='accuracy')\n",
    "print(cv_results.mean(), cv_results.std())"
   ]
  },
  {
   "cell_type": "code",
   "execution_count": 29,
   "metadata": {
    "collapsed": false,
    "deletable": true,
    "editable": true
   },
   "outputs": [
    {
     "name": "stdout",
     "output_type": "stream",
     "text": [
      "             precision    recall  f1-score   support\n",
      "\n",
      "        ham       0.95      0.97      0.96       747\n",
      "       spam       0.97      0.95      0.96       747\n",
      "\n",
      "avg / total       0.96      0.96      0.96      1494\n",
      "\n"
     ]
    }
   ],
   "source": [
    "predicted = cross_val_predict(naive_model, bowed_messages, balanced['label'], cv=10)\n",
    "print(classification_report(balanced['label'], predicted))"
   ]
  },
  {
   "cell_type": "markdown",
   "metadata": {
    "deletable": true,
    "editable": true
   },
   "source": [
    "### Результаты"
   ]
  },
  {
   "cell_type": "markdown",
   "metadata": {
    "deletable": true,
    "editable": true
   },
   "source": [
    "1. Выборка не сбалансирована. ham приблизительно в 6 раз больше, чем spam. Так что попробуем поделить данные, вот.\n",
    "2. Какой какой.. плохой очевидно \n",
    "3. разная токенизация (для простоты я смотрю на среднее значение, т.е. чем оно больше, тем лучше работает модель):\n",
    "    * *все модели построены при помощи CountVectorizer*\n",
    "        * **со знаками препинания:** mean: 0.962513513514    std: 0.0137901092475\n",
    "        * **без знаков препинания:** mean: 0.955171171171    std: 0.0174874217089\n",
    "        * **стемматизация + знаки препинания:** mean: 0.956531531532    std: 0.0179033400135\n",
    "        * **лемматизация + знаки препинания:** mean: 0.960522522523    std: 0.0127876401246\n",
    "        * **удаление стоп-слов:** mean: 0.955783783784    std: 0.0162463084155\n",
    "    * *модель без всяких улучшений типа лемматизации, удаления стоп-слов и т.п. показывает лучший результат. построим её же, только при помощи TfidfTransformer*\n",
    "        * **удаление стоп-слов:** mean: 0.96454954955 std: 0.0133338963845 ___TfidfTransformer работает лучше, чем CountVectorizer___"
   ]
  },
  {
   "cell_type": "markdown",
   "metadata": {
    "deletable": true,
    "editable": true
   },
   "source": [
    "## Task 2"
   ]
  },
  {
   "cell_type": "markdown",
   "metadata": {
    "deletable": true,
    "editable": true
   },
   "source": [
    "### Построю дерево решений"
   ]
  },
  {
   "cell_type": "code",
   "execution_count": 30,
   "metadata": {
    "collapsed": false,
    "deletable": true,
    "editable": true
   },
   "outputs": [],
   "source": [
    "bowed_messages = bow_tfidf.fit_transform(tokenize(balanced['message']))"
   ]
  },
  {
   "cell_type": "code",
   "execution_count": 34,
   "metadata": {
    "collapsed": false,
    "deletable": true,
    "editable": true
   },
   "outputs": [
    {
     "name": "stdout",
     "output_type": "stream",
     "text": [
      "0.919027027027 0.0277580652399\n"
     ]
    }
   ],
   "source": [
    "tree = DecisionTreeClassifier()\n",
    "tree.fit(bowed_messages, balanced['label'])\n",
    "cv_results = cross_val_score(tree, bowed_messages, balanced['label'], cv=10, scoring='accuracy')\n",
    "print(cv_results.mean(), cv_results.std())"
   ]
  },
  {
   "cell_type": "code",
   "execution_count": 35,
   "metadata": {
    "collapsed": false
   },
   "outputs": [
    {
     "name": "stdout",
     "output_type": "stream",
     "text": [
      "             precision    recall  f1-score   support\n",
      "\n",
      "        ham       0.90      0.93      0.91       747\n",
      "       spam       0.92      0.90      0.91       747\n",
      "\n",
      "avg / total       0.91      0.91      0.91      1494\n",
      "\n"
     ]
    }
   ],
   "source": [
    "predicted = cross_val_predict(tree, bowed_messages, balanced['label'], cv=10)\n",
    "print(classification_report(balanced['label'], predicted))"
   ]
  },
  {
   "cell_type": "markdown",
   "metadata": {},
   "source": [
    "фууууууу, дерево решений хуже всего работает("
   ]
  },
  {
   "cell_type": "markdown",
   "metadata": {
    "deletable": true,
    "editable": true
   },
   "source": [
    "### Построю RandomForest"
   ]
  },
  {
   "cell_type": "code",
   "execution_count": 36,
   "metadata": {
    "collapsed": false,
    "deletable": true,
    "editable": true
   },
   "outputs": [],
   "source": [
    "bowed_messages = bow_tfidf.fit_transform(tokenize(balanced['message']))"
   ]
  },
  {
   "cell_type": "code",
   "execution_count": 37,
   "metadata": {
    "collapsed": false
   },
   "outputs": [
    {
     "name": "stdout",
     "output_type": "stream",
     "text": [
      "0.939099099099 0.0164539135713\n"
     ]
    }
   ],
   "source": [
    "forest = RandomForestClassifier()\n",
    "forest.fit(bowed_messages, balanced['label'])\n",
    "cv_results = cross_val_score(forest, bowed_messages, balanced['label'], cv=10, scoring='accuracy')\n",
    "print(cv_results.mean(), cv_results.std())"
   ]
  },
  {
   "cell_type": "code",
   "execution_count": 38,
   "metadata": {
    "collapsed": false
   },
   "outputs": [
    {
     "name": "stdout",
     "output_type": "stream",
     "text": [
      "             precision    recall  f1-score   support\n",
      "\n",
      "        ham       0.90      0.99      0.94       747\n",
      "       spam       0.99      0.89      0.94       747\n",
      "\n",
      "avg / total       0.95      0.94      0.94      1494\n",
      "\n"
     ]
    }
   ],
   "source": [
    "predicted = cross_val_predict(forest, bowed_messages, balanced['label'], cv=10)\n",
    "print(classification_report(balanced['label'], predicted))"
   ]
  },
  {
   "cell_type": "markdown",
   "metadata": {},
   "source": [
    "конечно, получше дерева решений, но всё равно хуже наивного байеса."
   ]
  },
  {
   "cell_type": "markdown",
   "metadata": {},
   "source": [
    "### Построю learning curve"
   ]
  },
  {
   "cell_type": "code",
   "execution_count": 39,
   "metadata": {
    "collapsed": true
   },
   "outputs": [],
   "source": [
    "from sklearn.model_selection import learning_curve"
   ]
  },
  {
   "cell_type": "markdown",
   "metadata": {},
   "source": [
    "возьму функцию из тюториала"
   ]
  },
  {
   "cell_type": "code",
   "execution_count": 40,
   "metadata": {
    "collapsed": true
   },
   "outputs": [],
   "source": [
    "def plot_learning_curve(estimator, title, X, y, ylim=None, cv=None,\n",
    "                        n_jobs=1, train_sizes=np.linspace(.1, 1.0, 5)):\n",
    "    \"\"\"\n",
    "    Generate a simple plot of the test and training learning curve.\n",
    "\n",
    "    Parameters\n",
    "    ----------\n",
    "    estimator : object type that implements the \"fit\" and \"predict\" methods\n",
    "        An object of that type which is cloned for each validation.\n",
    "\n",
    "    title : string\n",
    "        Title for the chart.\n",
    "\n",
    "    X : array-like, shape (n_samples, n_features)\n",
    "        Training vector, where n_samples is the number of samples and\n",
    "        n_features is the number of features.\n",
    "\n",
    "    y : array-like, shape (n_samples) or (n_samples, n_features), optional\n",
    "        Target relative to X for classification or regression;\n",
    "        None for unsupervised learning.\n",
    "\n",
    "    ylim : tuple, shape (ymin, ymax), optional\n",
    "        Defines minimum and maximum yvalues plotted.\n",
    "\n",
    "    cv : int, cross-validation generator or an iterable, optional\n",
    "        Determines the cross-validation splitting strategy.\n",
    "        Possible inputs for cv are:\n",
    "          - None, to use the default 3-fold cross-validation,\n",
    "          - integer, to specify the number of folds.\n",
    "          - An object to be used as a cross-validation generator.\n",
    "          - An iterable yielding train/test splits.\n",
    "\n",
    "        For integer/None inputs, if ``y`` is binary or multiclass,\n",
    "        :class:`StratifiedKFold` used. If the estimator is not a classifier\n",
    "        or if ``y`` is neither binary nor multiclass, :class:`KFold` is used.\n",
    "\n",
    "        Refer :ref:`User Guide <cross_validation>` for the various\n",
    "        cross-validators that can be used here.\n",
    "\n",
    "    n_jobs : integer, optional\n",
    "        Number of jobs to run in parallel (default 1).\n",
    "    \"\"\"\n",
    "    plt.figure()\n",
    "    plt.title(title)\n",
    "    if ylim is not None:\n",
    "        plt.ylim(*ylim)\n",
    "    plt.xlabel(\"Training examples\")\n",
    "    plt.ylabel(\"Score\")\n",
    "    train_sizes, train_scores, test_scores = learning_curve(\n",
    "        estimator, X, y, cv=cv, n_jobs=n_jobs, train_sizes=train_sizes)\n",
    "    train_scores_mean = np.mean(train_scores, axis=1)\n",
    "    train_scores_std = np.std(train_scores, axis=1)\n",
    "    test_scores_mean = np.mean(test_scores, axis=1)\n",
    "    test_scores_std = np.std(test_scores, axis=1)\n",
    "    plt.grid()\n",
    "\n",
    "    plt.fill_between(train_sizes, train_scores_mean - train_scores_std,\n",
    "                     train_scores_mean + train_scores_std, alpha=0.1,\n",
    "                     color=\"r\")\n",
    "    plt.fill_between(train_sizes, test_scores_mean - test_scores_std,\n",
    "                     test_scores_mean + test_scores_std, alpha=0.1, color=\"g\")\n",
    "    plt.plot(train_sizes, train_scores_mean, 'o-', color=\"r\",\n",
    "             label=\"Training score\")\n",
    "    plt.plot(train_sizes, test_scores_mean, 'o-', color=\"g\",\n",
    "             label=\"Cross-validation score\")\n",
    "\n",
    "    plt.legend(loc=\"best\")\n",
    "    return plt"
   ]
  },
  {
   "cell_type": "code",
   "execution_count": 41,
   "metadata": {
    "collapsed": true
   },
   "outputs": [],
   "source": [
    "bowed_messages = bow_tfidf.fit_transform(tokenize(balanced['message']))"
   ]
  },
  {
   "cell_type": "code",
   "execution_count": 46,
   "metadata": {
    "collapsed": false
   },
   "outputs": [
    {
     "data": {
      "image/png": "[encoded data removed]",
      "text/plain": [
       "<matplotlib.figure.Figure at 0x51ac030>"
      ]
     },
     "metadata": {},
     "output_type": "display_data"
    }
   ],
   "source": [
    "plot_learning_curve(naive_model, 'Learning Curves --- Naive Bayes', bowed_messages, balanced['label'], ylim=(0.7, 1.01), cv=10, n_jobs=4)\n",
    "plt.show()"
   ]
  },
  {
   "cell_type": "code",
   "execution_count": 47,
   "metadata": {
    "collapsed": false
   },
   "outputs": [
    {
     "data": {
      "image/png": "[encoded data removed]",
      "text/plain": [
       "<matplotlib.figure.Figure at 0x930c3f0>"
      ]
     },
     "metadata": {},
     "output_type": "display_data"
    }
   ],
   "source": [
    "plot_learning_curve(tree, 'Learning Curves --- Decision Tree', bowed_messages, balanced['label'], ylim=(0.7, 1.01), cv=10, n_jobs=4)\n",
    "plt.show()"
   ]
  },
  {
   "cell_type": "code",
   "execution_count": 48,
   "metadata": {
    "collapsed": false
   },
   "outputs": [
    {
     "data": {
      "image/png": "[encoded data removed]",
      "text/plain": [
       "<matplotlib.figure.Figure at 0x930cc90>"
      ]
     },
     "metadata": {},
     "output_type": "display_data"
    }
   ],
   "source": [
    "plot_learning_curve(forest, 'Learning Curves --- Random Forest', bowed_messages, balanced['label'], ylim=(0.7, 1.01), cv=10, n_jobs=4)\n",
    "plt.show()"
   ]
  }
 ],
 "metadata": {
  "kernelspec": {
   "display_name": "Python 3",
   "language": "python",
   "name": "python3"
  },
  "language_info": {
   "codemirror_mode": {
    "name": "ipython",
    "version": 3
   },
   "file_extension": ".py",
   "mimetype": "text/x-python",
   "name": "python",
   "nbconvert_exporter": "python",
   "pygments_lexer": "ipython3",
   "version": "3.5.2"
  }
 },
 "nbformat": 4,
 "nbformat_minor": 2
}
