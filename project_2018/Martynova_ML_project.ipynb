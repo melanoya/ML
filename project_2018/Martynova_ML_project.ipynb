{
 "cells": [
  {
   "cell_type": "markdown",
   "metadata": {},
   "source": [
    "# Проект по МО. Распознавание интонации"
   ]
  },
  {
   "cell_type": "code",
   "execution_count": 28,
   "metadata": {},
   "outputs": [],
   "source": [
    "import pandas as pd\n",
    "import numpy as np\n",
    "import matplotlib.pyplot as plt\n",
    "import re\n",
    "import random\n",
    "\n",
    "from sklearn.feature_extraction.text import CountVectorizer, TfidfVectorizer\n",
    "from sklearn.naive_bayes import MultinomialNB\n",
    "from sklearn.metrics import classification_report, f1_score, accuracy_score, confusion_matrix\n",
    "from sklearn.pipeline import Pipeline\n",
    "from sklearn.model_selection import StratifiedKFold, cross_val_score, train_test_split\n",
    "\n",
    "import seaborn as sns\n",
    "\n",
    "%matplotlib inline"
   ]
  },
  {
   "cell_type": "markdown",
   "metadata": {},
   "source": [
    "## Загрузка и обработка данных"
   ]
  },
  {
   "cell_type": "code",
   "execution_count": 42,
   "metadata": {},
   "outputs": [],
   "source": [
    "df = pd.read_csv('pitch_data_new.csv')"
   ]
  },
  {
   "cell_type": "code",
   "execution_count": 43,
   "metadata": {},
   "outputs": [
    {
     "data": {
      "text/html": [
       "<div>\n",
       "<style>\n",
       "    .dataframe thead tr:only-child th {\n",
       "        text-align: right;\n",
       "    }\n",
       "\n",
       "    .dataframe thead th {\n",
       "        text-align: left;\n",
       "    }\n",
       "\n",
       "    .dataframe tbody tr th {\n",
       "        vertical-align: top;\n",
       "    }\n",
       "</style>\n",
       "<table border=\"1\" class=\"dataframe\">\n",
       "  <thead>\n",
       "    <tr style=\"text-align: right;\">\n",
       "      <th></th>\n",
       "      <th>Maximum pitch (Hz)</th>\n",
       "      <th>Minimum pitch (Hz)</th>\n",
       "      <th>Duration</th>\n",
       "      <th>Pitch mean</th>\n",
       "      <th>PmaxTime</th>\n",
       "      <th>PminTime</th>\n",
       "      <th>fmaxPosRat</th>\n",
       "      <th>fminPosRat</th>\n",
       "      <th>Frng</th>\n",
       "      <th>MC</th>\n",
       "    </tr>\n",
       "  </thead>\n",
       "  <tbody>\n",
       "    <tr>\n",
       "      <th>0</th>\n",
       "      <td>276.338989</td>\n",
       "      <td>143.104278</td>\n",
       "      <td>0.989799</td>\n",
       "      <td>209.721634</td>\n",
       "      <td>0.624677</td>\n",
       "      <td>0.378977</td>\n",
       "      <td>0.631115</td>\n",
       "      <td>0.382883</td>\n",
       "      <td>0.517858</td>\n",
       "      <td>MC1</td>\n",
       "    </tr>\n",
       "    <tr>\n",
       "      <th>1</th>\n",
       "      <td>282.786034</td>\n",
       "      <td>118.811589</td>\n",
       "      <td>0.592112</td>\n",
       "      <td>200.798812</td>\n",
       "      <td>0.117609</td>\n",
       "      <td>0.098287</td>\n",
       "      <td>0.198627</td>\n",
       "      <td>0.165994</td>\n",
       "      <td>0.420147</td>\n",
       "      <td>MC1</td>\n",
       "    </tr>\n",
       "    <tr>\n",
       "      <th>2</th>\n",
       "      <td>272.196684</td>\n",
       "      <td>190.064014</td>\n",
       "      <td>0.512574</td>\n",
       "      <td>231.130349</td>\n",
       "      <td>0.144792</td>\n",
       "      <td>0.312404</td>\n",
       "      <td>0.282480</td>\n",
       "      <td>0.609479</td>\n",
       "      <td>0.698260</td>\n",
       "      <td>MC1</td>\n",
       "    </tr>\n",
       "    <tr>\n",
       "      <th>3</th>\n",
       "      <td>314.067647</td>\n",
       "      <td>133.936885</td>\n",
       "      <td>0.901424</td>\n",
       "      <td>224.002266</td>\n",
       "      <td>0.445318</td>\n",
       "      <td>0.425851</td>\n",
       "      <td>0.494016</td>\n",
       "      <td>0.472421</td>\n",
       "      <td>0.426459</td>\n",
       "      <td>MC1</td>\n",
       "    </tr>\n",
       "    <tr>\n",
       "      <th>4</th>\n",
       "      <td>293.965389</td>\n",
       "      <td>202.893507</td>\n",
       "      <td>0.477224</td>\n",
       "      <td>248.429448</td>\n",
       "      <td>0.137941</td>\n",
       "      <td>0.315122</td>\n",
       "      <td>0.289049</td>\n",
       "      <td>0.660321</td>\n",
       "      <td>0.690195</td>\n",
       "      <td>MC1</td>\n",
       "    </tr>\n",
       "  </tbody>\n",
       "</table>\n",
       "</div>"
      ],
      "text/plain": [
       "   Maximum pitch (Hz)  Minimum pitch (Hz)  Duration  Pitch mean  PmaxTime  \\\n",
       "0          276.338989          143.104278  0.989799  209.721634  0.624677   \n",
       "1          282.786034          118.811589  0.592112  200.798812  0.117609   \n",
       "2          272.196684          190.064014  0.512574  231.130349  0.144792   \n",
       "3          314.067647          133.936885  0.901424  224.002266  0.445318   \n",
       "4          293.965389          202.893507  0.477224  248.429448  0.137941   \n",
       "\n",
       "   PminTime  fmaxPosRat  fminPosRat      Frng   MC  \n",
       "0  0.378977    0.631115    0.382883  0.517858  MC1  \n",
       "1  0.098287    0.198627    0.165994  0.420147  MC1  \n",
       "2  0.312404    0.282480    0.609479  0.698260  MC1  \n",
       "3  0.425851    0.494016    0.472421  0.426459  MC1  \n",
       "4  0.315122    0.289049    0.660321  0.690195  MC1  "
      ]
     },
     "execution_count": 43,
     "metadata": {},
     "output_type": "execute_result"
    }
   ],
   "source": [
    "df.head()"
   ]
  },
  {
   "cell_type": "code",
   "execution_count": 44,
   "metadata": {},
   "outputs": [
    {
     "data": {
      "text/plain": [
       "<matplotlib.axes._subplots.AxesSubplot at 0x7f8b170599b0>"
      ]
     },
     "execution_count": 44,
     "metadata": {},
     "output_type": "execute_result"
    },
    {
     "data": {
      "image/png": "[encoded data removed]",
      "text/plain": [
       "<matplotlib.figure.Figure at 0x7f8b1725be48>"
      ]
     },
     "metadata": {},
     "output_type": "display_data"
    }
   ],
   "source": [
    "sns.countplot(x=df['MC'], data=df, palette=\"Set3\") \n",
    "# MC1 - невопросительный, MC2 - вопросительный"
   ]
  },
  {
   "cell_type": "code",
   "execution_count": 75,
   "metadata": {},
   "outputs": [
    {
     "data": {
      "text/plain": [
       "414"
      ]
     },
     "execution_count": 75,
     "metadata": {},
     "output_type": "execute_result"
    }
   ],
   "source": [
    "len(df)"
   ]
  },
  {
   "cell_type": "code",
   "execution_count": 45,
   "metadata": {},
   "outputs": [
    {
     "data": {
      "text/html": [
       "<div>\n",
       "<style>\n",
       "    .dataframe thead tr:only-child th {\n",
       "        text-align: right;\n",
       "    }\n",
       "\n",
       "    .dataframe thead th {\n",
       "        text-align: left;\n",
       "    }\n",
       "\n",
       "    .dataframe tbody tr th {\n",
       "        vertical-align: top;\n",
       "    }\n",
       "</style>\n",
       "<table border=\"1\" class=\"dataframe\">\n",
       "  <thead>\n",
       "    <tr>\n",
       "      <th></th>\n",
       "      <th colspan=\"8\" halign=\"left\">Duration</th>\n",
       "      <th colspan=\"2\" halign=\"left\">Frng</th>\n",
       "      <th>...</th>\n",
       "      <th colspan=\"2\" halign=\"left\">fmaxPosRat</th>\n",
       "      <th colspan=\"8\" halign=\"left\">fminPosRat</th>\n",
       "    </tr>\n",
       "    <tr>\n",
       "      <th></th>\n",
       "      <th>count</th>\n",
       "      <th>mean</th>\n",
       "      <th>std</th>\n",
       "      <th>min</th>\n",
       "      <th>25%</th>\n",
       "      <th>50%</th>\n",
       "      <th>75%</th>\n",
       "      <th>max</th>\n",
       "      <th>count</th>\n",
       "      <th>mean</th>\n",
       "      <th>...</th>\n",
       "      <th>75%</th>\n",
       "      <th>max</th>\n",
       "      <th>count</th>\n",
       "      <th>mean</th>\n",
       "      <th>std</th>\n",
       "      <th>min</th>\n",
       "      <th>25%</th>\n",
       "      <th>50%</th>\n",
       "      <th>75%</th>\n",
       "      <th>max</th>\n",
       "    </tr>\n",
       "    <tr>\n",
       "      <th>MC</th>\n",
       "      <th></th>\n",
       "      <th></th>\n",
       "      <th></th>\n",
       "      <th></th>\n",
       "      <th></th>\n",
       "      <th></th>\n",
       "      <th></th>\n",
       "      <th></th>\n",
       "      <th></th>\n",
       "      <th></th>\n",
       "      <th></th>\n",
       "      <th></th>\n",
       "      <th></th>\n",
       "      <th></th>\n",
       "      <th></th>\n",
       "      <th></th>\n",
       "      <th></th>\n",
       "      <th></th>\n",
       "      <th></th>\n",
       "      <th></th>\n",
       "      <th></th>\n",
       "    </tr>\n",
       "  </thead>\n",
       "  <tbody>\n",
       "    <tr>\n",
       "      <th>MC1</th>\n",
       "      <td>270.0</td>\n",
       "      <td>0.862611</td>\n",
       "      <td>0.405648</td>\n",
       "      <td>0.204104</td>\n",
       "      <td>0.561287</td>\n",
       "      <td>0.788148</td>\n",
       "      <td>1.078213</td>\n",
       "      <td>2.306585</td>\n",
       "      <td>270.0</td>\n",
       "      <td>0.576900</td>\n",
       "      <td>...</td>\n",
       "      <td>0.446833</td>\n",
       "      <td>0.990816</td>\n",
       "      <td>270.0</td>\n",
       "      <td>0.665397</td>\n",
       "      <td>0.288445</td>\n",
       "      <td>0.000000</td>\n",
       "      <td>0.464742</td>\n",
       "      <td>0.766587</td>\n",
       "      <td>0.896184</td>\n",
       "      <td>1.0</td>\n",
       "    </tr>\n",
       "    <tr>\n",
       "      <th>MC2</th>\n",
       "      <td>144.0</td>\n",
       "      <td>1.074886</td>\n",
       "      <td>0.428961</td>\n",
       "      <td>0.357712</td>\n",
       "      <td>0.804206</td>\n",
       "      <td>1.006693</td>\n",
       "      <td>1.285650</td>\n",
       "      <td>2.670153</td>\n",
       "      <td>144.0</td>\n",
       "      <td>0.496366</td>\n",
       "      <td>...</td>\n",
       "      <td>0.645529</td>\n",
       "      <td>0.985641</td>\n",
       "      <td>144.0</td>\n",
       "      <td>0.609456</td>\n",
       "      <td>0.314777</td>\n",
       "      <td>0.018881</td>\n",
       "      <td>0.321288</td>\n",
       "      <td>0.688305</td>\n",
       "      <td>0.904900</td>\n",
       "      <td>1.0</td>\n",
       "    </tr>\n",
       "  </tbody>\n",
       "</table>\n",
       "<p>2 rows × 72 columns</p>\n",
       "</div>"
      ],
      "text/plain": [
       "    Duration                                                              \\\n",
       "       count      mean       std       min       25%       50%       75%   \n",
       "MC                                                                         \n",
       "MC1    270.0  0.862611  0.405648  0.204104  0.561287  0.788148  1.078213   \n",
       "MC2    144.0  1.074886  0.428961  0.357712  0.804206  1.006693  1.285650   \n",
       "\n",
       "                Frng           ...  fmaxPosRat           fminPosRat            \\\n",
       "          max  count      mean ...         75%       max      count      mean   \n",
       "MC                             ...                                              \n",
       "MC1  2.306585  270.0  0.576900 ...    0.446833  0.990816      270.0  0.665397   \n",
       "MC2  2.670153  144.0  0.496366 ...    0.645529  0.985641      144.0  0.609456   \n",
       "\n",
       "                                                            \n",
       "          std       min       25%       50%       75%  max  \n",
       "MC                                                          \n",
       "MC1  0.288445  0.000000  0.464742  0.766587  0.896184  1.0  \n",
       "MC2  0.314777  0.018881  0.321288  0.688305  0.904900  1.0  \n",
       "\n",
       "[2 rows x 72 columns]"
      ]
     },
     "execution_count": 45,
     "metadata": {},
     "output_type": "execute_result"
    }
   ],
   "source": [
    "df.groupby('MC').describe()"
   ]
  },
  {
   "cell_type": "code",
   "execution_count": 78,
   "metadata": {},
   "outputs": [
    {
     "name": "stdout",
     "output_type": "stream",
     "text": [
      "Maximum pitch (Hz)\n",
      "Minimum pitch (Hz)\n",
      "Duration\n",
      "Pitch mean\n",
      "PmaxTime\n",
      "PminTime\n",
      "fmaxPosRat\n",
      "fminPosRat\n",
      "Frng\n"
     ]
    }
   ],
   "source": [
    "df.iloc[0:len(df), 0:9]"
   ]
  },
  {
   "cell_type": "code",
   "execution_count": 82,
   "metadata": {},
   "outputs": [],
   "source": [
    "def merge_vectores(row):\n",
    "    arr = [i for i in row]\n",
    "    return arr\n",
    "\n",
    "# итерируем строки датафрейма и склеиваем содержание нужных столбцов, запиываем результат в новый стоблец\n",
    "df['features'] = [merge_vectores(df.iloc[row, 0:9]) for row in df.index]"
   ]
  },
  {
   "cell_type": "markdown",
   "metadata": {},
   "source": [
    "### Балансируем выборки"
   ]
  },
  {
   "cell_type": "code",
   "execution_count": 84,
   "metadata": {},
   "outputs": [],
   "source": [
    "mc1 = df[df['MC']=='MC1'] # невопросительные мелодические контуры"
   ]
  },
  {
   "cell_type": "code",
   "execution_count": 85,
   "metadata": {},
   "outputs": [],
   "source": [
    "mc2 = df[df['MC']=='MC2'] # вопросительные мелодические контуры"
   ]
  },
  {
   "cell_type": "code",
   "execution_count": 86,
   "metadata": {},
   "outputs": [],
   "source": [
    "mc1 = mc1[:len(mc2)]"
   ]
  },
  {
   "cell_type": "code",
   "execution_count": 87,
   "metadata": {},
   "outputs": [],
   "source": [
    "frames = [mc1, mc2]\n",
    "df_new = pd.concat(frames)"
   ]
  },
  {
   "cell_type": "code",
   "execution_count": 88,
   "metadata": {},
   "outputs": [],
   "source": [
    "df_new = df_new.sample(frac=1) # перемешали данные"
   ]
  },
  {
   "cell_type": "code",
   "execution_count": 89,
   "metadata": {},
   "outputs": [
    {
     "data": {
      "text/plain": [
       "288"
      ]
     },
     "execution_count": 89,
     "metadata": {},
     "output_type": "execute_result"
    }
   ],
   "source": [
    "len(df_new)"
   ]
  },
  {
   "cell_type": "markdown",
   "metadata": {},
   "source": [
    "### разделим датафрейм на тренировочную и тестовую выборки"
   ]
  },
  {
   "cell_type": "code",
   "execution_count": 90,
   "metadata": {},
   "outputs": [],
   "source": [
    "perc = int(len(df_new) * 0.8)\n",
    "train = df_new[:perc]\n",
    "test = df_new[perc:]"
   ]
  },
  {
   "cell_type": "code",
   "execution_count": 91,
   "metadata": {},
   "outputs": [
    {
     "name": "stdout",
     "output_type": "stream",
     "text": [
      "230 58\n"
     ]
    }
   ],
   "source": [
    "print(len(train), len(test))"
   ]
  },
  {
   "cell_type": "markdown",
   "metadata": {},
   "source": [
    "## Деревья решений"
   ]
  },
  {
   "cell_type": "code",
   "execution_count": 93,
   "metadata": {},
   "outputs": [],
   "source": [
    "from sklearn.pipeline import Pipeline\n",
    "from sklearn.tree import DecisionTreeClassifier\n",
    "from sklearn.metrics import classification_report\n",
    "from sklearn.metrics import accuracy_score"
   ]
  },
  {
   "cell_type": "code",
   "execution_count": 103,
   "metadata": {},
   "outputs": [],
   "source": [
    "x_train = [i for i in train.features]\n",
    "x_test = [i for i in test.features]"
   ]
  },
  {
   "cell_type": "code",
   "execution_count": 102,
   "metadata": {},
   "outputs": [
    {
     "data": {
      "text/plain": [
       "Pipeline(memory=None,\n",
       "     steps=[('tree', DecisionTreeClassifier(class_weight=None, criterion='gini', max_depth=None,\n",
       "            max_features=None, max_leaf_nodes=None,\n",
       "            min_impurity_decrease=0.0, min_impurity_split=None,\n",
       "            min_samples_leaf=1, min_samples_split=2,\n",
       "            min_weight_fraction_leaf=0.0, presort=False, random_state=42,\n",
       "            splitter='best'))])"
      ]
     },
     "execution_count": 102,
     "metadata": {},
     "output_type": "execute_result"
    }
   ],
   "source": [
    "ppl = Pipeline(\n",
    "    [('tree', DecisionTreeClassifier(random_state=42))]\n",
    ")\n",
    "ppl.fit(x_train, y=train.MC)"
   ]
  },
  {
   "cell_type": "code",
   "execution_count": 104,
   "metadata": {},
   "outputs": [
    {
     "name": "stdout",
     "output_type": "stream",
     "text": [
      "             precision    recall  f1-score   support\n",
      "\n",
      "        MC1       0.60      0.69      0.64        26\n",
      "        MC2       0.71      0.62      0.67        32\n",
      "\n",
      "avg / total       0.66      0.66      0.66        58\n",
      "\n",
      "0.655172413793\n"
     ]
    }
   ],
   "source": [
    "print(classification_report(test.MC, ppl.predict(x_test)))\n",
    "print(accuracy_score(test.MC, ppl.predict(x_test)))"
   ]
  },
  {
   "cell_type": "markdown",
   "metadata": {},
   "source": [
    "дефолтный вариант работает не так уж и плохо.."
   ]
  },
  {
   "cell_type": "markdown",
   "metadata": {},
   "source": [
    "Попробуем теперь какую-нибудь другую модель, например, логистическую регрессию."
   ]
  },
  {
   "cell_type": "markdown",
   "metadata": {},
   "source": [
    "## Логистическая регрессия"
   ]
  },
  {
   "cell_type": "code",
   "execution_count": 114,
   "metadata": {},
   "outputs": [],
   "source": [
    "from sklearn.linear_model import LogisticRegression"
   ]
  },
  {
   "cell_type": "code",
   "execution_count": 107,
   "metadata": {},
   "outputs": [
    {
     "name": "stdout",
     "output_type": "stream",
     "text": [
      "             precision    recall  f1-score   support\n",
      "\n",
      "        MC1       0.64      0.62      0.63        26\n",
      "        MC2       0.70      0.72      0.71        32\n",
      "\n",
      "avg / total       0.67      0.67      0.67        58\n",
      "\n",
      "0.672413793103\n"
     ]
    }
   ],
   "source": [
    "ppl = Pipeline(\n",
    "    [('tree', LogisticRegression(random_state=42))]\n",
    ")\n",
    "ppl.fit(x_train, y=train.MC)\n",
    "\n",
    "print(classification_report(test.MC, ppl.predict(x_test)))\n",
    "print(accuracy_score(test.MC, ppl.predict(x_test)))"
   ]
  },
  {
   "cell_type": "markdown",
   "metadata": {},
   "source": [
    "## Random forest"
   ]
  },
  {
   "cell_type": "code",
   "execution_count": 183,
   "metadata": {},
   "outputs": [],
   "source": [
    "from sklearn.ensemble import RandomForestClassifier, AdaBoostClassifier"
   ]
  },
  {
   "cell_type": "code",
   "execution_count": 195,
   "metadata": {},
   "outputs": [
    {
     "name": "stdout",
     "output_type": "stream",
     "text": [
      "             precision    recall  f1-score   support\n",
      "\n",
      "        MC1       0.79      0.73      0.76        26\n",
      "        MC2       0.79      0.84      0.82        32\n",
      "\n",
      "avg / total       0.79      0.79      0.79        58\n",
      "\n",
      "0.793103448276\n"
     ]
    }
   ],
   "source": [
    "ppl = Pipeline(\n",
    "    [('tree',  RandomForestClassifier(max_depth=5, n_estimators=10, max_features=7))]\n",
    ")\n",
    "ppl.fit(x_train, y=train.MC)\n",
    "\n",
    "print(classification_report(test.MC, ppl.predict(x_test)))\n",
    "print(accuracy_score(test.MC, ppl.predict(x_test)))"
   ]
  },
  {
   "cell_type": "markdown",
   "metadata": {},
   "source": [
    "если покрутить max_features, можно получить лучший результат."
   ]
  },
  {
   "cell_type": "code",
   "execution_count": 196,
   "metadata": {},
   "outputs": [],
   "source": [
    "from sklearn.metrics import confusion_matrix"
   ]
  },
  {
   "cell_type": "code",
   "execution_count": 197,
   "metadata": {},
   "outputs": [],
   "source": [
    "y_pred = ppl.fit(x_train, train.MC).predict(x_test)"
   ]
  },
  {
   "cell_type": "code",
   "execution_count": 198,
   "metadata": {},
   "outputs": [
    {
     "name": "stdout",
     "output_type": "stream",
     "text": [
      "58 58\n"
     ]
    }
   ],
   "source": [
    "print(len(y_pred), len(test.MC))"
   ]
  },
  {
   "cell_type": "code",
   "execution_count": 199,
   "metadata": {},
   "outputs": [
    {
     "data": {
      "text/plain": [
       "array([[19,  7],\n",
       "       [ 8, 24]])"
      ]
     },
     "execution_count": 199,
     "metadata": {},
     "output_type": "execute_result"
    }
   ],
   "source": [
    "confusion_matrix(test.MC, y_pred)"
   ]
  },
  {
   "cell_type": "code",
   "execution_count": null,
   "metadata": {},
   "outputs": [],
   "source": []
  },
  {
   "cell_type": "markdown",
   "metadata": {},
   "source": [
    "## AdaBoostClassifier"
   ]
  },
  {
   "cell_type": "code",
   "execution_count": 135,
   "metadata": {},
   "outputs": [
    {
     "name": "stdout",
     "output_type": "stream",
     "text": [
      "             precision    recall  f1-score   support\n",
      "\n",
      "        MC1       0.64      0.62      0.63        26\n",
      "        MC2       0.70      0.72      0.71        32\n",
      "\n",
      "avg / total       0.67      0.67      0.67        58\n",
      "\n",
      "0.672413793103\n"
     ]
    }
   ],
   "source": [
    "ppl = Pipeline(\n",
    "    [('tree',  AdaBoostClassifier())]\n",
    ")\n",
    "ppl.fit(x_train, y=train.MC)\n",
    "\n",
    "print(classification_report(test.MC, ppl.predict(x_test)))\n",
    "print(accuracy_score(test.MC, ppl.predict(x_test)))"
   ]
  },
  {
   "cell_type": "markdown",
   "metadata": {},
   "source": [
    "## K ближайших соседей"
   ]
  },
  {
   "cell_type": "code",
   "execution_count": 136,
   "metadata": {},
   "outputs": [],
   "source": [
    "from sklearn.neighbors import KNeighborsClassifier"
   ]
  },
  {
   "cell_type": "code",
   "execution_count": 152,
   "metadata": {},
   "outputs": [
    {
     "name": "stdout",
     "output_type": "stream",
     "text": [
      "             precision    recall  f1-score   support\n",
      "\n",
      "        MC1       0.62      0.88      0.73        26\n",
      "        MC2       0.86      0.56      0.68        32\n",
      "\n",
      "avg / total       0.75      0.71      0.70        58\n",
      "\n",
      "0.706896551724\n"
     ]
    }
   ],
   "source": [
    "ppl = Pipeline(\n",
    "    [('tree',  KNeighborsClassifier(4))]\n",
    ")\n",
    "ppl.fit(x_train, y=train.MC)\n",
    "\n",
    "print(classification_report(test.MC, ppl.predict(x_test)))\n",
    "print(accuracy_score(test.MC, ppl.predict(x_test)))"
   ]
  },
  {
   "cell_type": "markdown",
   "metadata": {},
   "source": [
    "## SVC"
   ]
  },
  {
   "cell_type": "code",
   "execution_count": 153,
   "metadata": {},
   "outputs": [],
   "source": [
    "from sklearn.svm import SVC"
   ]
  },
  {
   "cell_type": "code",
   "execution_count": 154,
   "metadata": {},
   "outputs": [
    {
     "name": "stdout",
     "output_type": "stream",
     "text": [
      "             precision    recall  f1-score   support\n",
      "\n",
      "        MC1       0.59      0.65      0.62        26\n",
      "        MC2       0.69      0.62      0.66        32\n",
      "\n",
      "avg / total       0.64      0.64      0.64        58\n",
      "\n",
      "0.637931034483\n"
     ]
    }
   ],
   "source": [
    "ppl = Pipeline(\n",
    "    [('tree', SVC(kernel=\"linear\", C=0.025))]\n",
    ")\n",
    "ppl.fit(x_train, y=train.MC)\n",
    "\n",
    "print(classification_report(test.MC, ppl.predict(x_test)))\n",
    "print(accuracy_score(test.MC, ppl.predict(x_test)))"
   ]
  },
  {
   "cell_type": "code",
   "execution_count": 161,
   "metadata": {},
   "outputs": [
    {
     "name": "stdout",
     "output_type": "stream",
     "text": [
      "             precision    recall  f1-score   support\n",
      "\n",
      "        MC1       0.48      0.96      0.64        26\n",
      "        MC2       0.83      0.16      0.26        32\n",
      "\n",
      "avg / total       0.68      0.52      0.43        58\n",
      "\n",
      "0.51724137931\n"
     ]
    }
   ],
   "source": [
    "ppl = Pipeline(\n",
    "    [('tree', SVC(gamma=2, C=1))]\n",
    ")\n",
    "ppl.fit(x_train, y=train.MC)\n",
    "\n",
    "print(classification_report(test.MC, ppl.predict(x_test)))\n",
    "print(accuracy_score(test.MC, ppl.predict(x_test)))"
   ]
  },
  {
   "cell_type": "markdown",
   "metadata": {},
   "source": [
    "## GaussianProcessClassifier"
   ]
  },
  {
   "cell_type": "code",
   "execution_count": 165,
   "metadata": {},
   "outputs": [],
   "source": [
    "from sklearn.gaussian_process import GaussianProcessClassifier\n",
    "from sklearn.gaussian_process.kernels import RBF"
   ]
  },
  {
   "cell_type": "code",
   "execution_count": 166,
   "metadata": {},
   "outputs": [
    {
     "name": "stdout",
     "output_type": "stream",
     "text": [
      "             precision    recall  f1-score   support\n",
      "\n",
      "        MC1       0.59      0.77      0.67        26\n",
      "        MC2       0.75      0.56      0.64        32\n",
      "\n",
      "avg / total       0.68      0.66      0.65        58\n",
      "\n",
      "0.655172413793\n"
     ]
    }
   ],
   "source": [
    "ppl = Pipeline(\n",
    "    [('tree', GaussianProcessClassifier(1.0 * RBF(1.0)))]\n",
    ")\n",
    "ppl.fit(x_train, y=train.MC)\n",
    "\n",
    "print(classification_report(test.MC, ppl.predict(x_test)))\n",
    "print(accuracy_score(test.MC, ppl.predict(x_test)))"
   ]
  },
  {
   "cell_type": "markdown",
   "metadata": {},
   "source": [
    "## Наивный Байес"
   ]
  },
  {
   "cell_type": "code",
   "execution_count": 167,
   "metadata": {},
   "outputs": [],
   "source": [
    "from sklearn.naive_bayes import GaussianNB"
   ]
  },
  {
   "cell_type": "code",
   "execution_count": 168,
   "metadata": {},
   "outputs": [
    {
     "name": "stdout",
     "output_type": "stream",
     "text": [
      "             precision    recall  f1-score   support\n",
      "\n",
      "        MC1       0.59      0.65      0.62        26\n",
      "        MC2       0.69      0.62      0.66        32\n",
      "\n",
      "avg / total       0.64      0.64      0.64        58\n",
      "\n",
      "0.637931034483\n"
     ]
    }
   ],
   "source": [
    "ppl = Pipeline(\n",
    "    [('tree', GaussianNB())]\n",
    ")\n",
    "ppl.fit(x_train, y=train.MC)\n",
    "\n",
    "print(classification_report(test.MC, ppl.predict(x_test)))\n",
    "print(accuracy_score(test.MC, ppl.predict(x_test)))"
   ]
  },
  {
   "cell_type": "markdown",
   "metadata": {},
   "source": [
    "## QuadraticDiscriminantAnalysis"
   ]
  },
  {
   "cell_type": "code",
   "execution_count": 169,
   "metadata": {},
   "outputs": [],
   "source": [
    "from sklearn.discriminant_analysis import QuadraticDiscriminantAnalysis"
   ]
  },
  {
   "cell_type": "code",
   "execution_count": 171,
   "metadata": {},
   "outputs": [
    {
     "name": "stdout",
     "output_type": "stream",
     "text": [
      "             precision    recall  f1-score   support\n",
      "\n",
      "        MC1       0.73      0.62      0.67        26\n",
      "        MC2       0.72      0.81      0.76        32\n",
      "\n",
      "avg / total       0.72      0.72      0.72        58\n",
      "\n",
      "0.724137931034\n"
     ]
    },
    {
     "name": "stderr",
     "output_type": "stream",
     "text": [
      "/usr/local/lib/python3.5/dist-packages/sklearn/discriminant_analysis.py:682: UserWarning: Variables are collinear\n",
      "  warnings.warn(\"Variables are collinear\")\n"
     ]
    }
   ],
   "source": [
    "ppl = Pipeline(\n",
    "    [('tree', QuadraticDiscriminantAnalysis())]\n",
    ")\n",
    "ppl.fit(x_train, y=train.MC)\n",
    "\n",
    "print(classification_report(test.MC, ppl.predict(x_test)))\n",
    "print(accuracy_score(test.MC, ppl.predict(x_test)))"
   ]
  },
  {
   "cell_type": "markdown",
   "metadata": {},
   "source": [
    "## MLPClassifier"
   ]
  },
  {
   "cell_type": "code",
   "execution_count": 173,
   "metadata": {},
   "outputs": [],
   "source": [
    "from sklearn.neural_network import MLPClassifier"
   ]
  },
  {
   "cell_type": "code",
   "execution_count": 174,
   "metadata": {},
   "outputs": [
    {
     "name": "stdout",
     "output_type": "stream",
     "text": [
      "             precision    recall  f1-score   support\n",
      "\n",
      "        MC1       0.73      0.42      0.54        26\n",
      "        MC2       0.65      0.88      0.75        32\n",
      "\n",
      "avg / total       0.69      0.67      0.65        58\n",
      "\n",
      "0.672413793103\n"
     ]
    }
   ],
   "source": [
    "ppl = Pipeline(\n",
    "    [('tree', MLPClassifier(alpha=1))]\n",
    ")\n",
    "ppl.fit(x_train, y=train.MC)\n",
    "\n",
    "print(classification_report(test.MC, ppl.predict(x_test)))\n",
    "print(accuracy_score(test.MC, ppl.predict(x_test)))"
   ]
  }
 ],
 "metadata": {
  "kernelspec": {
   "display_name": "Python 3",
   "language": "python",
   "name": "python3"
  },
  "language_info": {
   "codemirror_mode": {
    "name": "ipython",
    "version": 3
   },
   "file_extension": ".py",
   "mimetype": "text/x-python",
   "name": "python",
   "nbconvert_exporter": "python",
   "pygments_lexer": "ipython3",
   "version": "3.5.2"
  }
 },
 "nbformat": 4,
 "nbformat_minor": 2
}
